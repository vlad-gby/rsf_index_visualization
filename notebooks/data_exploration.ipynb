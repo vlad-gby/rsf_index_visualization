{
 "cells": [
  {
   "cell_type": "markdown",
   "id": "08acec0b",
   "metadata": {},
   "source": [
    "And here I start"
   ]
  },
  {
   "cell_type": "code",
   "execution_count": 215,
   "id": "a1c9b469",
   "metadata": {},
   "outputs": [],
   "source": [
    "import pandas as pd\n",
    "import requests\n",
    "import numpy as np\n",
    "import io"
   ]
  },
  {
   "cell_type": "markdown",
   "id": "8b68013f",
   "metadata": {},
   "source": [
    "Here, I create links for the data to download. There is no data for 2011, so we have to omit that one. We convert everything into pd.DataFrame, so that we have all pandas functionality right-away."
   ]
  },
  {
   "cell_type": "code",
   "execution_count": 216,
   "id": "1ec68bd0",
   "metadata": {},
   "outputs": [
    {
     "data": {
      "text/plain": [
       "'https://rsf.org/sites/default/files/import_classement/2002.csv'"
      ]
     },
     "execution_count": 216,
     "metadata": {},
     "output_type": "execute_result"
    }
   ],
   "source": [
    "download_link = 'https://rsf.org/sites/default/files/import_classement/2000.csv'\n",
    "links = []\n",
    "for i in range(2, 26):\n",
    "    if i == 11:\n",
    "        continue\n",
    "    links.append(download_link.replace('2000', f'{2000 + i}'))\n",
    "links = pd.Series(links)\n",
    "links[0]"
   ]
  },
  {
   "cell_type": "markdown",
   "id": "4f2be0bb",
   "metadata": {},
   "source": [
    "Load files with requests and reading them. I had to create file-objects, cos read_csv accepts only those, it can't read strings directly. RSF decided to use semi-columns as separators"
   ]
  },
  {
   "cell_type": "code",
   "execution_count": 217,
   "id": "b87f50e3",
   "metadata": {},
   "outputs": [
    {
     "name": "stdout",
     "output_type": "stream",
     "text": [
      "     ï»¿Year (N)  ISO  Rank N Score N  Score N without the exactions  \\\n",
      "0           2002  FIN       1     0,5                            NaN   \n",
      "1           2002  ISL       2     0,5                            NaN   \n",
      "2           2002  NOR       3     0,5                            NaN   \n",
      "3           2002  NLD       4     0,5                            NaN   \n",
      "4           2002  CAN       5    0,75                            NaN   \n",
      "..           ...  ...     ...     ...                            ...   \n",
      "134         2002  BTN     135   90,75                            NaN   \n",
      "135         2002  TKM     136    91,5                            NaN   \n",
      "136         2002  MMR     137   96,83                            NaN   \n",
      "137         2002  CHN     138      97                            NaN   \n",
      "138         2002  PRK     139    97,5                            NaN   \n",
      "\n",
      "     Score N with the exactions  Score exactions  Rank N-1  Score N-1  \\\n",
      "0                           NaN              NaN       NaN        NaN   \n",
      "1                           NaN              NaN       NaN        NaN   \n",
      "2                           NaN              NaN       NaN        NaN   \n",
      "3                           NaN              NaN       NaN        NaN   \n",
      "4                           NaN              NaN       NaN        NaN   \n",
      "..                          ...              ...       ...        ...   \n",
      "134                         NaN              NaN       NaN        NaN   \n",
      "135                         NaN              NaN       NaN        NaN   \n",
      "136                         NaN              NaN       NaN        NaN   \n",
      "137                         NaN              NaN       NaN        NaN   \n",
      "138                         NaN              NaN       NaN        NaN   \n",
      "\n",
      "     Rank evolution      FR_country                             EN_country  \\\n",
      "0               NaN        Finlande                                Finland   \n",
      "1               NaN         Islande                                Iceland   \n",
      "2               NaN        NorvÃ¨ge                                 Norway   \n",
      "3               NaN        Pays-Bas                            Netherlands   \n",
      "4               NaN          Canada                                 Canada   \n",
      "..              ...             ...                                    ...   \n",
      "134             NaN         Bhoutan                                 Bhutan   \n",
      "135             NaN   TurkmÃ©nistan                           Turkmenistan   \n",
      "136             NaN        Birmanie                                Myanmar   \n",
      "137             NaN           Chine                                  China   \n",
      "138             NaN  CorÃ©e du Nord  Democratic People's Republic of Korea   \n",
      "\n",
      "          ES_country                   AR_country          FA_country  \\\n",
      "0          Finlandia                 ÙÙÙÙØ¯Ø§        ÙÙÙØ§ÙØ¯   \n",
      "1           Islandia               Ø£ÙØ³ÙÙØ¯Ø§        Ø§ÛØ³ÙÙØ¯   \n",
      "2            Noruega               Ø§ÙÙØ±ÙÙØ¬            ÙØ±ÙÚ   \n",
      "3      PaÃ­ses Bajos                 ÙÙÙÙØ¯Ø§            ÙÙÙØ¯   \n",
      "4            CanadÃ¡                     ÙÙØ¯Ø§        Ú©Ø§ÙØ§Ø¯Ø§   \n",
      "..               ...                          ...                 ...   \n",
      "134           ButÃ¡n                   Ø¨ÙØªØ§Ù          Ø¨ÙØªØ§Ù   \n",
      "135    TurkmenistÃ¡n         ØªØ±ÙÙØ§ÙØ³ØªØ§Ù  ØªØ±Ú©ÙÙØ³ØªØ§Ù   \n",
      "136         Birmania                   Ø¨ÙØ±ÙØ§            Ø¨Ø±ÙÙ   \n",
      "137            China                   Ø§ÙØµÙÙ              ÚÛÙ   \n",
      "138  Corea del Norte  ÙÙØ±ÙØ§ Ø§ÙØ´ÙØ§ÙÙØ©   Ú©Ø±Ù Ø´ÙØ§ÙÛ   \n",
      "\n",
      "               Zone  \n",
      "0        UE Balkans  \n",
      "1        UE Balkans  \n",
      "2        UE Balkans  \n",
      "3        UE Balkans  \n",
      "4        AmÃ©riques  \n",
      "..              ...  \n",
      "134  Asie-Pacifique  \n",
      "135            EEAC  \n",
      "136  Asie-Pacifique  \n",
      "137  Asie-Pacifique  \n",
      "138  Asie-Pacifique  \n",
      "\n",
      "[139 rows x 16 columns]\n"
     ]
    }
   ],
   "source": [
    "files = links.apply(lambda x: requests.get(x))\n",
    "files = files.apply(lambda x : pd.read_csv(io.StringIO(x.text), sep=';'))\n",
    "print(files[0])"
   ]
  },
  {
   "cell_type": "markdown",
   "id": "bdb378ac",
   "metadata": {},
   "source": [
    "Now, joining "
   ]
  },
  {
   "cell_type": "code",
   "execution_count": 276,
   "id": "410fa1d0",
   "metadata": {},
   "outputs": [
    {
     "name": "stdout",
     "output_type": "stream",
     "text": [
      "Index(['ï»¿Year (N)', 'ISO', 'Rank N', 'Score N',\n",
      "       'Score N without the exactions', 'Score N with the exactions',\n",
      "       'Score exactions', 'Rank N-1', 'Score N-1', 'Rank evolution',\n",
      "       'FR_country', 'EN_country', 'ES_country', 'AR_country', 'FA_country',\n",
      "       'Zone', 'ï»¿ISO', 'Score', 'Rank', 'Political Context', 'Rank_Pol',\n",
      "       'Economic Context', 'Rank_Eco', 'Legal Context', 'Rank_Leg',\n",
      "       'Social Context', 'Rank_Soc', 'Safety', 'Rank_Saf', 'Country_EN',\n",
      "       'Country_FR', 'Country_ES', 'Country_AR', 'Country_FA', 'Year (N)',\n",
      "       'Country_PT', 'Score evolution', 'Situation', 'Score 2025'],\n",
      "      dtype='object')\n"
     ]
    }
   ],
   "source": [
    "data = pd.concat(list(files))\n",
    "print(data.columns)"
   ]
  },
  {
   "cell_type": "markdown",
   "id": "dbd5af08",
   "metadata": {},
   "source": [
    "Dropping obviously useless columns "
   ]
  },
  {
   "cell_type": "code",
   "execution_count": 277,
   "id": "824469f0",
   "metadata": {},
   "outputs": [
    {
     "name": "stdout",
     "output_type": "stream",
     "text": [
      "Index(['Year', 'Rank N', 'Score N without the exactions',\n",
      "       'Score N with the exactions', 'Score exactions', 'Rank N-1',\n",
      "       'Score N-1', 'Rank evolution', 'EN_country', 'Score', 'Rank',\n",
      "       'Political Context', 'Economic Context', 'Legal Context',\n",
      "       'Social Context', 'Safety', 'Country_EN', 'Year (N)'],\n",
      "      dtype='object')\n"
     ]
    }
   ],
   "source": [
    "data = data.rename(columns={'ï»¿Year (N)': 'Year'})\n",
    "data = data.drop(['Country_FR', 'Country_ES', 'Country_AR', 'Country_FA', 'Country_PT', \n",
    "           'FR_country', 'ES_country', 'AR_country', 'FA_country', 'Zone', 'ISO', 'ï»¿ISO',\n",
    "           'Rank_Eco', 'Rank_Pol','Rank_Leg', 'Rank_Soc', \n",
    "           'Rank_Saf', 'Score N', 'Score evolution', 'Score 2025', 'Situation'], axis=1)\n",
    "print(data.columns)"
   ]
  },
  {
   "cell_type": "markdown",
   "id": "f8fcdbe7",
   "metadata": {},
   "source": [
    "Standardize columns, convert the df to more efficient data types. Unite year and rank columns that were named differently into one. Dropping some more obsolete columns, such as used 'year_(n)' duplicate, rank and score of prev year, evolution, score and others.\n",
    "\n",
    "Main job of the platform will be to compare rankings in a nice and visual way, using more detailed info as needed (as economic context and other \"contexts\"). Those detailed parameters will me measured in scores, as it's more relevant to compare the economic context of a country at some absolute scale, comparing with itself, and not with how it changes in others."
   ]
  },
  {
   "cell_type": "code",
   "execution_count": 278,
   "id": "af0c2ea8",
   "metadata": {},
   "outputs": [],
   "source": [
    "data = data.convert_dtypes()\n",
    "data.columns = data.columns.str.lower().str.replace(' ', '_')\n",
    "\n",
    "data['year'] = data['year'].where(data['year'].notna(), data['year_(n)'])\n",
    "data['rank_n'] = data['rank_n'].where(data['rank_n'].notna(), data['rank'])\n",
    "data['en_country'] = data['en_country'].where(data['en_country'].notna(), data['country_en'])\n",
    "\n",
    "data = data.drop(['year_(n)', 'rank', 'rank_n-1', 'score_n-1', 'rank_evolution', 'score', \n",
    "                   'score_exactions', 'score_n_without_the_exactions', \n",
    "                   'score_n_with_the_exactions', 'country_en'], axis=1)\n",
    "data = data.rename(columns={'rank_n': 'rank'})\n"
   ]
  },
  {
   "cell_type": "markdown",
   "id": "ff99f021",
   "metadata": {},
   "source": [
    "Last touch of standartization in columns naming"
   ]
  },
  {
   "cell_type": "code",
   "execution_count": 284,
   "id": "56be5c5b",
   "metadata": {},
   "outputs": [
    {
     "name": "stdout",
     "output_type": "stream",
     "text": [
      "<class 'pandas.core.frame.DataFrame'>\n",
      "Index: 4020 entries, 0 to 179\n",
      "Data columns (total 8 columns):\n",
      " #   Column            Non-Null Count  Dtype \n",
      "---  ------            --------------  ----- \n",
      " 0   year              4020 non-null   object\n",
      " 1   rank              4020 non-null   Int64 \n",
      " 2   en_country        4020 non-null   string\n",
      " 3   political_factor  720 non-null    string\n",
      " 4   economic_factor   720 non-null    string\n",
      " 5   legal_factor      720 non-null    string\n",
      " 6   social_factor     720 non-null    string\n",
      " 7   safety_factor     720 non-null    string\n",
      "dtypes: Int64(1), object(1), string(6)\n",
      "memory usage: 286.6+ KB\n",
      "None\n"
     ]
    }
   ],
   "source": [
    "new_col_names = []\n",
    "for name in data.columns:\n",
    "    if name == 'safety':\n",
    "        new_col_names.append('safety_factor')\n",
    "        continue\n",
    "    new_col_names.append(name.replace('context', 'factor'))\n",
    "data.columns = new_col_names\n",
    "\n",
    "print(data.info())"
   ]
  },
  {
   "cell_type": "code",
   "execution_count": null,
   "id": "2e7c075a",
   "metadata": {},
   "outputs": [],
   "source": []
  },
  {
   "cell_type": "code",
   "execution_count": null,
   "id": "fb380c10",
   "metadata": {},
   "outputs": [],
   "source": []
  }
 ],
 "metadata": {
  "kernelspec": {
   "display_name": "data_book",
   "language": "python",
   "name": "python3"
  },
  "language_info": {
   "codemirror_mode": {
    "name": "ipython",
    "version": 3
   },
   "file_extension": ".py",
   "mimetype": "text/x-python",
   "name": "python",
   "nbconvert_exporter": "python",
   "pygments_lexer": "ipython3",
   "version": "3.13.4"
  }
 },
 "nbformat": 4,
 "nbformat_minor": 5
}
