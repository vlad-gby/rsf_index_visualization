{
 "cells": [
  {
   "cell_type": "markdown",
   "id": "08acec0b",
   "metadata": {},
   "source": [
    "And here I start"
   ]
  },
  {
   "cell_type": "code",
   "execution_count": 2,
   "id": "a1c9b469",
   "metadata": {},
   "outputs": [],
   "source": [
    "import pandas as pd\n",
    "import requests\n",
    "import numpy as np\n",
    "import io\n"
   ]
  },
  {
   "cell_type": "markdown",
   "id": "8b68013f",
   "metadata": {},
   "source": [
    "Here, I create links for the data to download. There is no data for 2011, so we have to omit that one. We convert everything into pd.DataFrame, so that we have all pandas functionality right-away."
   ]
  },
  {
   "cell_type": "code",
   "execution_count": 3,
   "id": "1ec68bd0",
   "metadata": {},
   "outputs": [
    {
     "data": {
      "text/plain": [
       "'https://rsf.org/sites/default/files/import_classement/2002.csv'"
      ]
     },
     "execution_count": 3,
     "metadata": {},
     "output_type": "execute_result"
    }
   ],
   "source": [
    "download_link = 'https://rsf.org/sites/default/files/import_classement/2000.csv'\n",
    "links = []\n",
    "for i in range(2, 26):\n",
    "    if i == 11:\n",
    "        continue\n",
    "    links.append(download_link.replace('2000', f'{2000 + i}'))\n",
    "links = pd.Series(links)\n",
    "links[0]"
   ]
  },
  {
   "cell_type": "markdown",
   "id": "4f2be0bb",
   "metadata": {},
   "source": [
    "Load files with requests and reading them. I had to create file-objects, cos read_csv accepts only those, it can't read strings directly. RSF decided to use semi-columns as separators"
   ]
  },
  {
   "cell_type": "code",
   "execution_count": 4,
   "id": "b87f50e3",
   "metadata": {},
   "outputs": [
    {
     "name": "stdout",
     "output_type": "stream",
     "text": [
      "     ï»¿Year (N)  ISO  Rank N Score N  Score N without the exactions  \\\n",
      "0           2002  FIN       1     0,5                            NaN   \n",
      "1           2002  ISL       2     0,5                            NaN   \n",
      "2           2002  NOR       3     0,5                            NaN   \n",
      "3           2002  NLD       4     0,5                            NaN   \n",
      "4           2002  CAN       5    0,75                            NaN   \n",
      "..           ...  ...     ...     ...                            ...   \n",
      "134         2002  BTN     135   90,75                            NaN   \n",
      "135         2002  TKM     136    91,5                            NaN   \n",
      "136         2002  MMR     137   96,83                            NaN   \n",
      "137         2002  CHN     138      97                            NaN   \n",
      "138         2002  PRK     139    97,5                            NaN   \n",
      "\n",
      "     Score N with the exactions  Score exactions  Rank N-1  Score N-1  \\\n",
      "0                           NaN              NaN       NaN        NaN   \n",
      "1                           NaN              NaN       NaN        NaN   \n",
      "2                           NaN              NaN       NaN        NaN   \n",
      "3                           NaN              NaN       NaN        NaN   \n",
      "4                           NaN              NaN       NaN        NaN   \n",
      "..                          ...              ...       ...        ...   \n",
      "134                         NaN              NaN       NaN        NaN   \n",
      "135                         NaN              NaN       NaN        NaN   \n",
      "136                         NaN              NaN       NaN        NaN   \n",
      "137                         NaN              NaN       NaN        NaN   \n",
      "138                         NaN              NaN       NaN        NaN   \n",
      "\n",
      "     Rank evolution      FR_country                             EN_country  \\\n",
      "0               NaN        Finlande                                Finland   \n",
      "1               NaN         Islande                                Iceland   \n",
      "2               NaN        NorvÃ¨ge                                 Norway   \n",
      "3               NaN        Pays-Bas                            Netherlands   \n",
      "4               NaN          Canada                                 Canada   \n",
      "..              ...             ...                                    ...   \n",
      "134             NaN         Bhoutan                                 Bhutan   \n",
      "135             NaN   TurkmÃ©nistan                           Turkmenistan   \n",
      "136             NaN        Birmanie                                Myanmar   \n",
      "137             NaN           Chine                                  China   \n",
      "138             NaN  CorÃ©e du Nord  Democratic People's Republic of Korea   \n",
      "\n",
      "          ES_country                   AR_country          FA_country  \\\n",
      "0          Finlandia                 ÙÙÙÙØ¯Ø§        ÙÙÙØ§ÙØ¯   \n",
      "1           Islandia               Ø£ÙØ³ÙÙØ¯Ø§        Ø§ÛØ³ÙÙØ¯   \n",
      "2            Noruega               Ø§ÙÙØ±ÙÙØ¬            ÙØ±ÙÚ   \n",
      "3      PaÃ­ses Bajos                 ÙÙÙÙØ¯Ø§            ÙÙÙØ¯   \n",
      "4            CanadÃ¡                     ÙÙØ¯Ø§        Ú©Ø§ÙØ§Ø¯Ø§   \n",
      "..               ...                          ...                 ...   \n",
      "134           ButÃ¡n                   Ø¨ÙØªØ§Ù          Ø¨ÙØªØ§Ù   \n",
      "135    TurkmenistÃ¡n         ØªØ±ÙÙØ§ÙØ³ØªØ§Ù  ØªØ±Ú©ÙÙØ³ØªØ§Ù   \n",
      "136         Birmania                   Ø¨ÙØ±ÙØ§            Ø¨Ø±ÙÙ   \n",
      "137            China                   Ø§ÙØµÙÙ              ÚÛÙ   \n",
      "138  Corea del Norte  ÙÙØ±ÙØ§ Ø§ÙØ´ÙØ§ÙÙØ©   Ú©Ø±Ù Ø´ÙØ§ÙÛ   \n",
      "\n",
      "               Zone  \n",
      "0        UE Balkans  \n",
      "1        UE Balkans  \n",
      "2        UE Balkans  \n",
      "3        UE Balkans  \n",
      "4        AmÃ©riques  \n",
      "..              ...  \n",
      "134  Asie-Pacifique  \n",
      "135            EEAC  \n",
      "136  Asie-Pacifique  \n",
      "137  Asie-Pacifique  \n",
      "138  Asie-Pacifique  \n",
      "\n",
      "[139 rows x 16 columns]\n"
     ]
    }
   ],
   "source": [
    "files = links.apply(lambda x: requests.get(x))\n",
    "files = files.apply(lambda x : pd.read_csv(io.StringIO(x.text), sep=';'))\n",
    "print(files[0])"
   ]
  },
  {
   "cell_type": "markdown",
   "id": "bdb378ac",
   "metadata": {},
   "source": [
    "Now, joining "
   ]
  },
  {
   "cell_type": "code",
   "execution_count": 5,
   "id": "410fa1d0",
   "metadata": {},
   "outputs": [
    {
     "name": "stdout",
     "output_type": "stream",
     "text": [
      "Index(['ï»¿Year (N)', 'ISO', 'Rank N', 'Score N',\n",
      "       'Score N without the exactions', 'Score N with the exactions',\n",
      "       'Score exactions', 'Rank N-1', 'Score N-1', 'Rank evolution',\n",
      "       'FR_country', 'EN_country', 'ES_country', 'AR_country', 'FA_country',\n",
      "       'Zone', 'ï»¿ISO', 'Score', 'Rank', 'Political Context', 'Rank_Pol',\n",
      "       'Economic Context', 'Rank_Eco', 'Legal Context', 'Rank_Leg',\n",
      "       'Social Context', 'Rank_Soc', 'Safety', 'Rank_Saf', 'Country_EN',\n",
      "       'Country_FR', 'Country_ES', 'Country_AR', 'Country_FA', 'Year (N)',\n",
      "       'Country_PT', 'Score evolution', 'Situation', 'Score 2025'],\n",
      "      dtype='object')\n"
     ]
    }
   ],
   "source": [
    "data = pd.concat(list(files))\n",
    "print(data.columns)"
   ]
  },
  {
   "cell_type": "markdown",
   "id": "dbd5af08",
   "metadata": {},
   "source": [
    "Dropping obviously useless columns "
   ]
  },
  {
   "cell_type": "code",
   "execution_count": 6,
   "id": "824469f0",
   "metadata": {},
   "outputs": [
    {
     "name": "stdout",
     "output_type": "stream",
     "text": [
      "Index(['Year', 'ISO', 'Rank N', 'Score N', 'EN_country', 'ï»¿ISO', 'Score',\n",
      "       'Rank', 'Political Context', 'Economic Context', 'Legal Context',\n",
      "       'Social Context', 'Safety', 'Country_EN', 'Year (N)', 'Score 2025'],\n",
      "      dtype='object')\n"
     ]
    }
   ],
   "source": [
    "data = data.rename(columns={'ï»¿Year (N)': 'Year'})\n",
    "data = data.drop(['Country_FR', 'Country_ES', 'Country_AR', 'Country_FA', 'Country_PT', \n",
    "           'FR_country', 'ES_country', 'AR_country', 'FA_country', 'Zone',\n",
    "           'Rank_Eco', 'Rank_Pol','Rank_Leg', 'Rank_Soc', \n",
    "           'Rank_Saf', 'Situation', 'Score evolution', 'Score N with the exactions', \n",
    "           'Score exactions', 'Score N without the exactions', 'Score N-1', 'Rank evolution',\n",
    "           'Rank N-1'], axis=1)\n",
    "print(data.columns)"
   ]
  },
  {
   "cell_type": "markdown",
   "id": "f8fcdbe7",
   "metadata": {},
   "source": [
    "Standardize columns, unite columns that were named differently into one. Dropping some more obsolete columns\n",
    "\n",
    "Main job of the platform will be to compare rankings in a nice and visual way, using more detailed info as needed (as economic context and other \"contexts\"). Those detailed parameters will me measured in scores, as it's more relevant to compare the economic context of a country at some absolute scale, independently from others."
   ]
  },
  {
   "cell_type": "code",
   "execution_count": 7,
   "id": "af0c2ea8",
   "metadata": {},
   "outputs": [
    {
     "name": "stdout",
     "output_type": "stream",
     "text": [
      "<bound method NDFrame.sample of 0        2002\n",
      "1        2002\n",
      "2        2002\n",
      "3        2002\n",
      "4        2002\n",
      "        ...  \n",
      "175    2025.0\n",
      "176    2025.0\n",
      "177    2025.0\n",
      "178    2025.0\n",
      "179    2025.0\n",
      "Name: year, Length: 4020, dtype: object>\n"
     ]
    }
   ],
   "source": [
    "data.columns = data.columns.str.lower().str.replace(' ', '_')\n",
    "\n",
    "data['year'] = data['year'].where(data['year'].notna(), data['year_(n)'])\n",
    "data['rank_n'] = data['rank_n'].where(data['rank_n'].notna(), data['rank'])\n",
    "data['en_country'] = data['en_country'].where(data['en_country'].notna(), data['country_en'])\n",
    "\n",
    "data = data.drop(['year_(n)', 'rank', 'country_en'], axis=1)\n",
    "data = data.rename(columns={'rank_n': 'rank', 'en_country': 'country'})\n",
    "\n",
    "print(data['year'].sample)\n",
    "\n"
   ]
  },
  {
   "cell_type": "markdown",
   "id": "ff99f021",
   "metadata": {},
   "source": [
    "I'll add the overall score to my data, as it's useful to select it optionally. So the overall situation can be tracked my rank and score, but I don't see a need in seeing the rank of separate factors, so the score will suffice. I'll also convert the data to lighter dtypes and rename those columns to make them simpler"
   ]
  },
  {
   "cell_type": "code",
   "execution_count": 8,
   "id": "b4db5881",
   "metadata": {},
   "outputs": [],
   "source": [
    "# print(data[data['score'].notna()]['year'].unique()) #22, 23, 24\n",
    "# print(data[data['score_n'].notna()]['year'].unique()) # 2 - 21\n",
    "# print(data[data['score_2025'].notna()]['year'].unique()) # 25\n",
    "\n",
    "data['score_n'] = data['score_n'].where(data['score_n'].notna(), data['score'])\n",
    "data['score_n'] = data['score_n'].where(data['score_n'].notna(), data['score_2025'])\n",
    "data = data.drop(['score', 'score_2025'], axis=1)\n",
    "data = data.convert_dtypes()\n",
    "data = data.rename(columns={'score_n': 'score', 'en_country': 'country'})\n",
    "\n",
    "data['score'] = data['score'].str.replace(',', '.')\n",
    "data['score'] = data['score'].astype(float)\n",
    "\n",
    "data['iso'] = data['iso'].where(data['iso'].notna(), data['ï»¿iso'])\n",
    "data = data.drop(['ï»¿iso'], axis=1)"
   ]
  },
  {
   "cell_type": "markdown",
   "id": "22fd85e3",
   "metadata": {},
   "source": [
    "Another round of standartizing column names and correcting their types manually."
   ]
  },
  {
   "cell_type": "code",
   "execution_count": 9,
   "id": "56be5c5b",
   "metadata": {},
   "outputs": [
    {
     "name": "stdout",
     "output_type": "stream",
     "text": [
      "<class 'pandas.core.frame.DataFrame'>\n",
      "Index: 4020 entries, 0 to 179\n",
      "Data columns (total 10 columns):\n",
      " #   Column           Non-Null Count  Dtype  \n",
      "---  ------           --------------  -----  \n",
      " 0   year             4020 non-null   Int64  \n",
      " 1   iso              4020 non-null   string \n",
      " 2   rank             4020 non-null   Int64  \n",
      " 3   score            4020 non-null   float64\n",
      " 4   country          4020 non-null   string \n",
      " 5   political_score  720 non-null    float64\n",
      " 6   economic_score   720 non-null    float64\n",
      " 7   legal_score      720 non-null    float64\n",
      " 8   social_score     720 non-null    float64\n",
      " 9   safety_score     720 non-null    float64\n",
      "dtypes: Int64(2), float64(6), string(2)\n",
      "memory usage: 353.3 KB\n",
      "None\n"
     ]
    }
   ],
   "source": [
    "new_col_names = []\n",
    "for name in data.columns:\n",
    "    if name == 'safety':\n",
    "        new_col_names.append('safety_score')\n",
    "        continue\n",
    "    new_col_names.append(name.replace('context', 'score'))\n",
    "data.columns = new_col_names\n",
    "\n",
    "data['year'] = data['year'].astype(str).str.findall(r'(^20.{2})').str[0].astype('Int64')\n",
    "data.loc[data['year'] == 2011, 'year'] = 2012\n",
    "\n",
    "data[['political_score',\n",
    "    'economic_score', \n",
    "    'legal_score',\n",
    "    'social_score', \n",
    "    'safety_score']] = data[['political_score',\n",
    "                            'economic_score', \n",
    "                            'legal_score',\n",
    "                            'social_score', \n",
    "                            'safety_score']].apply(lambda x : x.str.replace(',', '.').astype(float))\n",
    "print(data.info())\n",
    "\n"
   ]
  },
  {
   "cell_type": "markdown",
   "id": "1bd85d7e",
   "metadata": {},
   "source": [
    "Now, setting those countries right. I'll send to Gemini Pro 2.5 the list of unique codes and get the mapper-list of country names that I like. Using api is an overkill here, and i tried the open-source mapper - total mess, as it had multiple names for same code, while i need simplicity and efficiency here. \n",
    "\n",
    "Ok, I need also to manage those indexes right"
   ]
  },
  {
   "cell_type": "code",
   "execution_count": 10,
   "id": "fb380c10",
   "metadata": {},
   "outputs": [],
   "source": [
    "country_mapper = {\n",
    "    'AFG': 'Afghanistan',\n",
    "    'AGO': 'Angola',\n",
    "    'ALB': 'Albania',\n",
    "    'AND': 'Andorra',\n",
    "    'ARE': 'United Arab Emirates',\n",
    "    'ARG': 'Argentina',\n",
    "    'ARM': 'Armenia',\n",
    "    'AUS': 'Australia',\n",
    "    'AUT': 'Austria',\n",
    "    'AZE': 'Azerbaijan',\n",
    "    'BDI': 'Burundi',\n",
    "    'BEL': 'Belgium',\n",
    "    'BEN': 'Benin',\n",
    "    'BFA': 'Burkina Faso',\n",
    "    'BGD': 'Bangladesh',\n",
    "    'BGR': 'Bulgaria',\n",
    "    'BHR': 'Bahrain',\n",
    "    'BIH': 'Bosnia and Herzegovina',\n",
    "    'BLR': 'Belarus',\n",
    "    'BLZ': 'Belize',\n",
    "    'BOL': 'Bolivia',\n",
    "    'BRA': 'Brazil',\n",
    "    'BRN': 'Brunei',\n",
    "    'BTN': 'Bhutan',\n",
    "    'BWA': 'Botswana',\n",
    "    'CAF': 'Central African Republic',\n",
    "    'CAN': 'Canada',\n",
    "    'CHE': 'Switzerland',\n",
    "    'CHL': 'Chile',\n",
    "    'CHN': 'China',\n",
    "    'CIV': 'Ivory Coast',\n",
    "    'CMR': 'Cameroon',\n",
    "    'COD': 'Congo',\n",
    "    'COG': 'Congo-Brazzaville',\n",
    "    'COL': 'Colombia',\n",
    "    'COM': 'Comoros',\n",
    "    'CPV': 'Cape Verde',\n",
    "    'CRI': 'Costa Rica',\n",
    "    'CSS': 'Czechoslovakia (Former)', # Historical\n",
    "    'CUB': 'Cuba',\n",
    "    'CYP': 'Cyprus',\n",
    "    'CZE': 'Czechia',\n",
    "    'DEU': 'Germany',\n",
    "    'DJI': 'Djibouti',\n",
    "    'DNK': 'Denmark',\n",
    "    'DOM': 'Dominican Republic',\n",
    "    'DZA': 'Algeria',\n",
    "    'ECU': 'Ecuador',\n",
    "    'EGY': 'Egypt',\n",
    "    'ERI': 'Eritrea',\n",
    "    'ESP': 'Spain',\n",
    "    'EST': 'Estonia',\n",
    "    'ETH': 'Ethiopia',\n",
    "    'FIN': 'Finland',\n",
    "    'FJI': 'Fiji',\n",
    "    'FRA': 'France',\n",
    "    'GAB': 'Gabon',\n",
    "    'GBR': 'United Kingdom',\n",
    "    'GEO': 'Georgia',\n",
    "    'GHA': 'Ghana',\n",
    "    'GIN': 'Guinea',\n",
    "    'GMB': 'Gambia',\n",
    "    'GNB': 'Guinea-Bissau',\n",
    "    'GNQ': 'Equatorial Guinea',\n",
    "    'GRC': 'Greece',\n",
    "    'GRD': 'Grenada',\n",
    "    'GTM': 'Guatemala',\n",
    "    'GUY': 'Guyana',\n",
    "    'HKG': 'Hong Kong',\n",
    "    'HND': 'Honduras',\n",
    "    'HRV': 'Croatia',\n",
    "    'HTI': 'Haiti',\n",
    "    'HUN': 'Hungary',\n",
    "    'IDN': 'Indonesia',\n",
    "    'IND': 'India',\n",
    "    'IRL': 'Ireland',\n",
    "    'IRN': 'Iran',\n",
    "    'IRQ': 'Iraq',\n",
    "    'ISL': 'Iceland',\n",
    "    'ISR': 'Israel',\n",
    "    'ITA': 'Italy',\n",
    "    'JAM': 'Jamaica',\n",
    "    'JOR': 'Jordan',\n",
    "    'JPN': 'Japan',\n",
    "    'KAZ': 'Kazakhstan',\n",
    "    'KEN': 'Kenya',\n",
    "    'KGZ': 'Kyrgyzstan',\n",
    "    'KHM': 'Cambodia',\n",
    "    'KOR': 'South Korea',\n",
    "    'KWT': 'Kuwait',\n",
    "    'LAO': 'Laos',\n",
    "    'LBN': 'Lebanon',\n",
    "    'LBR': 'Liberia',\n",
    "    'LBY': 'Libya',\n",
    "    'LIE': 'Liechtenstein',\n",
    "    'LKA': 'Sri Lanka',\n",
    "    'LSO': 'Lesotho',\n",
    "    'LTU': 'Lithuania',\n",
    "    'LUX': 'Luxembourg',\n",
    "    'LVA': 'Latvia',\n",
    "    'MAR': 'Morocco',\n",
    "    'MDA': 'Moldova',\n",
    "    'MDG': 'Madagascar',\n",
    "    'MDV': 'Maldives',\n",
    "    'MEX': 'Mexico',\n",
    "    'MKD': 'North Macedonia',\n",
    "    'MLI': 'Mali',\n",
    "    'MLT': 'Malta',\n",
    "    'MMR': 'Myanmar',\n",
    "    'MNE': 'Montenegro',\n",
    "    'MNG': 'Mongolia',\n",
    "    'MOZ': 'Mozambique',\n",
    "    'MRT': 'Mauritania',\n",
    "    'MUS': 'Mauritius',\n",
    "    'MWI': 'Malawi',\n",
    "    'MYS': 'Malaysia',\n",
    "    'NAM': 'Namibia',\n",
    "    'NER': 'Niger',\n",
    "    'NGA': 'Nigeria',\n",
    "    'NIC': 'Nicaragua',\n",
    "    'NLD': 'Netherlands',\n",
    "    'NOR': 'Norway',\n",
    "    'NPL': 'Nepal',\n",
    "    'NZL': 'New Zealand',\n",
    "    'OMN': 'Oman',\n",
    "    'PAK': 'Pakistan',\n",
    "    'PAN': 'Panama',\n",
    "    'PER': 'Peru',\n",
    "    'PHL': 'Philippines',\n",
    "    'PNG': 'Papua New Guinea',\n",
    "    'POL': 'Poland',\n",
    "    'PRK': 'North Korea',\n",
    "    'PRT': 'Portugal',\n",
    "    'PRY': 'Paraguay',\n",
    "    'PSE': 'Palestine',\n",
    "    'QAT': 'Qatar',\n",
    "    'ROU': 'Romania',\n",
    "    'RUS': 'Russia',\n",
    "    'RWA': 'Rwanda',\n",
    "    'SAU': 'Saudi Arabia',\n",
    "    'SCG': 'Serbia and Montenegro (Former)', # Historical\n",
    "    'SDN': 'Sudan',\n",
    "    'SEN': 'Senegal',\n",
    "    'SGP': 'Singapore',\n",
    "    'SLE': 'Sierra Leone',\n",
    "    'SLV': 'El Salvador',\n",
    "    'SOM': 'Somalia',\n",
    "    'SRB': 'Serbia',\n",
    "    'SSD': 'South Sudan',\n",
    "    'SUR': 'Suriname',\n",
    "    'SVK': 'Slovakia',\n",
    "    'SVN': 'Slovenia',\n",
    "    'SWE': 'Sweden',\n",
    "    'SWZ': 'Eswatini',\n",
    "    'SYC': 'Seychelles',\n",
    "    'SYR': 'Syria',\n",
    "    'TCD': 'Chad',\n",
    "    'TGO': 'Togo',\n",
    "    'THA': 'Thailand',\n",
    "    'TJK': 'Tajikistan',\n",
    "    'TKM': 'Turkmenistan',\n",
    "    'TLS': 'Timor-Leste',\n",
    "    'TON': 'Tonga',\n",
    "    'TTO': 'Trinidad and Tobago',\n",
    "    'TUN': 'Tunisia',\n",
    "    'TUR': 'Turkey',\n",
    "    'TWN': 'Taiwan',\n",
    "    'TZA': 'Tanzania',\n",
    "    'UGA': 'Uganda',\n",
    "    'UKR': 'Ukraine',\n",
    "    'URY': 'Uruguay',\n",
    "    'USA': 'United States',\n",
    "    'UZB': 'Uzbekistan',\n",
    "    'VEN': 'Venezuela',\n",
    "    'VNM': 'Vietnam',\n",
    "    'WSM': 'Samoa',\n",
    "    'XKX': 'Kosovo', # User-assigned code\n",
    "    'XKO': 'Kosovo',\n",
    "    'YEM': 'Yemen',\n",
    "    'YUG': 'Yugoslavia (Former)', # Historical\n",
    "    'ZAF': 'South Africa',\n",
    "    'ZMB': 'Zambia',\n",
    "    'ZWE': 'Zimbabwe',\n",
    "    # Mapping custom/duplicate codes to a standard name\n",
    "    'USA1': 'United States',\n",
    "    'USA2': 'United States',\n",
    "    'USA_I': 'United States',\n",
    "    'ISR1': 'Israel',\n",
    "    'ISR2': 'Israel',\n",
    "    'ISR3': 'Israel',\n",
    "    'CTU': 'Northern Cyprus',\n",
    "    'XCD': 'Caribbean States' # Currency code, not a country code\n",
    "}\n",
    "data['country'] = data['iso'].map(country_mapper)\n",
    "\n",
    "data = data.reset_index()\n",
    "data = data.drop('index', axis=1)"
   ]
  },
  {
   "cell_type": "markdown",
   "id": "35a53453",
   "metadata": {},
   "source": [
    "Ok, looks good to me, time to export. Hopefully i won't come back here again, but something tells me that I will) But it's time to proceed."
   ]
  },
  {
   "cell_type": "code",
   "execution_count": null,
   "id": "175bd96a",
   "metadata": {},
   "outputs": [],
   "source": [
    "data.to_csv('../docs/data/data.csv')\n",
    "data.to_json('../docs/data/data.json', orient='records', index=False)"
   ]
  },
  {
   "cell_type": "code",
   "execution_count": 19,
   "id": "ffef44e7",
   "metadata": {},
   "outputs": [
    {
     "data": {
      "text/plain": [
       "np.int64(1)"
      ]
     },
     "execution_count": 19,
     "metadata": {},
     "output_type": "execute_result"
    }
   ],
   "source": [
    "data['rank'].min()\n"
   ]
  },
  {
   "cell_type": "code",
   "execution_count": null,
   "id": "d7244323",
   "metadata": {},
   "outputs": [],
   "source": []
  }
 ],
 "metadata": {
  "kernelspec": {
   "display_name": "data_book",
   "language": "python",
   "name": "python3"
  },
  "language_info": {
   "codemirror_mode": {
    "name": "ipython",
    "version": 3
   },
   "file_extension": ".py",
   "mimetype": "text/x-python",
   "name": "python",
   "nbconvert_exporter": "python",
   "pygments_lexer": "ipython3",
   "version": "3.13.4"
  }
 },
 "nbformat": 4,
 "nbformat_minor": 5
}
